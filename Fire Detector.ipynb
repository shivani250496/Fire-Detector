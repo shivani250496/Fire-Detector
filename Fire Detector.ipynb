{
 "cells": [
  {
   "cell_type": "code",
   "execution_count": null,
   "id": "16af7de4",
   "metadata": {},
   "outputs": [],
   "source": [
    "import tensorflow as tf\n",
    "from tensorflow.keras.preprocessing import image\n",
    "from tensorflow.keras.applications.resnet50 import preprocess_input, decode_predictions\n",
    "import numpy as np"
   ]
  },
  {
   "cell_type": "code",
   "execution_count": null,
   "id": "a5007858",
   "metadata": {},
   "outputs": [],
   "source": [
    "\n",
    "model = tf.keras.applications.ResNet50(weights='imagenet'\n",
    "def preprocess_image(img_path):\n",
    "    img = image.load_img(img_path, target_size=(224, 224))\n",
    "    img_array = image.img_to_array(img)\n",
    "    img_array = np.expand_dims(img_array, axis=0)\n",
    "    return preprocess_input(img_array)\n",
    "\n",
    "\n",
    "def predict_fire_smoke(img_path):\n",
    "    preprocessed_img = preprocess_image(img_path)\n",
    "    predictions = model.predict(preprocessed_img)\n",
    "    decoded_predictions = decode_predictions(predictions, top=3)[0]\n",
    "    \n",
    "    fire_smoke_classes = ['fire', 'smoke']\n",
    "    \n",
    "    for _, class_name, score in decoded_predictions:\n",
    "        if class_name.lower() in fire_smoke_classes:\n",
    "            return True, class_name, score\n",
    "    return False, None, None\n",
    "\n",
    "\n",
    "image_path = '19.jpeg'\n",
    "contains_fire_smoke, class_name, score = predict_fire_smoke(image_path)\n",
    "\n",
    "if contains_fire_smoke:\n",
    "    print(f\"The image contains {class_name} with a confidence of {score}.\")\n",
    "else:\n",
    "    print(\"The image does not contain fire or smoke.\")\n",
    " \n",
    "\n",
    "\n",
    "\n",
    "\n",
    "\n",
    "\n"
   ]
  }
 ],
 "metadata": {
  "kernelspec": {
   "display_name": "Python 3 (ipykernel)",
   "language": "python",
   "name": "python3"
  },
  "language_info": {
   "codemirror_mode": {
    "name": "ipython",
    "version": 3
   },
   "file_extension": ".py",
   "mimetype": "text/x-python",
   "name": "python",
   "nbconvert_exporter": "python",
   "pygments_lexer": "ipython3",
   "version": "3.10.9"
  }
 },
 "nbformat": 4,
 "nbformat_minor": 5
}
